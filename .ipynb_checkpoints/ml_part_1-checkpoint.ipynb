{
 "cells": [
  {
   "cell_type": "markdown",
   "metadata": {},
   "source": [
    "# Data Loading"
   ]
  },
  {
   "cell_type": "code",
   "execution_count": 2,
   "metadata": {},
   "outputs": [
    {
     "name": "stdout",
     "output_type": "stream",
     "text": [
      "['.git', '.ipynb_checkpoints', 'emi_ml_i.csv', 'initial_data_Exploration.ipynb', 'ml_prototyping1.ipynb', 'ML_prototyping_1.ipynb', 'Untitled.ipynb', 'Untitled1.ipynb', 'x_sc.csv', 'y_sc.csv']\n"
     ]
    }
   ],
   "source": [
    "import os\n",
    "print(os.listdir())"
   ]
  },
  {
   "cell_type": "code",
   "execution_count": 3,
   "metadata": {},
   "outputs": [],
   "source": [
    "from numpy import genfromtxt\n",
    "x_sc = genfromtxt('x_sc.csv', delimiter=',')\n",
    "y_sc = genfromtxt('y_sc.csv', delimiter=',')"
   ]
  },
  {
   "cell_type": "code",
   "execution_count": 4,
   "metadata": {},
   "outputs": [
    {
     "data": {
      "text/plain": [
       "array([[2.58630836e-01, 3.88957607e-01, 1.21904025e-01, ...,\n",
       "        5.82427335e-04, 4.97811336e-01, 2.57207176e-01],\n",
       "       [1.66437819e-01, 3.88957607e-01, 1.21904025e-01, ...,\n",
       "        5.82427335e-04, 4.09781536e-01, 2.57915355e-01],\n",
       "       [9.77834445e-02, 3.88957607e-01, 1.21904025e-01, ...,\n",
       "        5.82427335e-04, 3.62500755e-01, 2.58590045e-01],\n",
       "       ...,\n",
       "       [4.22714790e-01, 3.53624357e-01, 9.88777090e-01, ...,\n",
       "        0.00000000e+00, 6.16107923e-01, 3.72338201e-01],\n",
       "       [4.11337780e-01, 3.53624357e-01, 9.88777090e-01, ...,\n",
       "        0.00000000e+00, 5.36132085e-01, 3.72664111e-01],\n",
       "       [3.62593174e-01, 3.53624357e-01, 9.88777090e-01, ...,\n",
       "        0.00000000e+00, 4.54505185e-01, 3.72748243e-01]])"
      ]
     },
     "execution_count": 4,
     "metadata": {},
     "output_type": "execute_result"
    }
   ],
   "source": [
    "x_sc"
   ]
  }
 ],
 "metadata": {
  "kernelspec": {
   "display_name": "Python 3",
   "language": "python",
   "name": "python3"
  },
  "language_info": {
   "codemirror_mode": {
    "name": "ipython",
    "version": 3
   },
   "file_extension": ".py",
   "mimetype": "text/x-python",
   "name": "python",
   "nbconvert_exporter": "python",
   "pygments_lexer": "ipython3",
   "version": "3.7.4"
  }
 },
 "nbformat": 4,
 "nbformat_minor": 2
}
